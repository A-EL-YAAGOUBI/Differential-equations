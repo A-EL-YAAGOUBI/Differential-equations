{
 "cells": [
  {
   "cell_type": "markdown",
   "metadata": {},
   "source": [
    "## Importing useful packages"
   ]
  },
  {
   "cell_type": "code",
   "execution_count": 28,
   "metadata": {
    "collapsed": true
   },
   "outputs": [],
   "source": [
    "import matplotlib.pyplot as plt\n",
    "import numpy as np\n",
    "\n",
    "%matplotlib inline\n",
    "%matplotlib notebook"
   ]
  },
  {
   "cell_type": "markdown",
   "metadata": {},
   "source": [
    "## Initializing constants"
   ]
  },
  {
   "cell_type": "code",
   "execution_count": 29,
   "metadata": {},
   "outputs": [],
   "source": [
    "k = 0.3    # Thermal conductivity coefficient\n",
    "Lx = 10    # Width\n",
    "Ly = 10    # Length\n",
    "\n",
    "n = 250    # Spatial precision \n",
    "nx = n     # X axis precision\n",
    "ny = n     # Y axis precision \n",
    "\n",
    "dx = Lx/nx # X axis step size\n",
    "dy = Ly/ny # Y axis step size\n",
    "\n",
    "xx = np.linspace(-Lx/2, Lx/2, nx + 1) # X Axis\n",
    "yy = np.linspace(-Ly/2, Ly/2, ny + 1) # Y Axis\n",
    "\n",
    "Tf = 8     # Integration time\n",
    "dt = 0.001 # Time step\n",
    "\n",
    "SOL = []  # Stores the evolution of T"
   ]
  },
  {
   "cell_type": "markdown",
   "metadata": {},
   "source": [
    "## Setting boundary contitions first example :"
   ]
  },
  {
   "cell_type": "code",
   "execution_count": null,
   "metadata": {
    "collapsed": true
   },
   "outputs": [],
   "source": [
    "T   = np.zeros((nx + 1, ny + 1))    # Initial temperature equal to zero inside the domain\n",
    "RHS = np.zeros((nx + 1, ny + 1))    # Initial temperature constant so RHS vanishes\n",
    "\n",
    "T[:,0] = 200  # Left boundary condition \n",
    "T[:,n] = 200  # Right boundary condition\n",
    "\n",
    "SOL.append(T)"
   ]
  },
  {
   "cell_type": "markdown",
   "metadata": {},
   "source": [
    "## Main Loop "
   ]
  },
  {
   "cell_type": "code",
   "execution_count": null,
   "metadata": {
    "collapsed": true
   },
   "outputs": [],
   "source": [
    "for t in range(int(Tf/dt)):\n",
    "    # Computing RHS using a first order schema\n",
    "    RHS[1:-1,1:-1] = dt*k*(T[:-2,1:-1] - 2*T[1:-1,1:-1] + T[2:,1:-1] + T[1:-1,:-2] - 2*T[1:-1,1:-1] + T[1:-1,2:])/(dx**2)\n",
    "    \n",
    "    # Update T : T <- T + Tdot*dt\n",
    "    T = T + RHS\n",
    "    if t % 500 == 0:\n",
    "        SOL.append(T)"
   ]
  },
  {
   "cell_type": "markdown",
   "metadata": {},
   "source": [
    "## Visualization"
   ]
  },
  {
   "cell_type": "code",
   "execution_count": null,
   "metadata": {},
   "outputs": [],
   "source": [
    "plt.figure(figsize=(10, 10))\n",
    "plt.title('2D Heat Equation solution at time t = {}'.format(Tf))\n",
    "plt.xlabel('x-axis')\n",
    "plt.ylabel('y-axis')\n",
    "plt.pcolor(xx, yy, T)\n",
    "plt.show()"
   ]
  },
  {
   "cell_type": "markdown",
   "metadata": {
    "collapsed": true
   },
   "source": [
    "## Diffrent boundary conditions heat diffusion inside the domain"
   ]
  },
  {
   "cell_type": "code",
   "execution_count": null,
   "metadata": {
    "collapsed": true
   },
   "outputs": [],
   "source": [
    "T2   = np.zeros((nx + 1, ny + 1))    # Initial temperature equal to zero inside the domain\n",
    "RHS  = np.zeros((nx + 1, ny + 1))    # Initial temperature constant so RHS vanishes\n",
    "\n",
    "T2[20:30,20:30]     = 200  # Left boundary condition \n",
    "T2[150:160,150:160] = 200  # Right boundary condition\n",
    "\n",
    "\n",
    "SOL2 = []  # Stores the evolution of T2\n",
    "SOL2.append(T2)"
   ]
  },
  {
   "cell_type": "markdown",
   "metadata": {},
   "source": [
    "## Main Loop Example 2 :"
   ]
  },
  {
   "cell_type": "code",
   "execution_count": null,
   "metadata": {
    "collapsed": true
   },
   "outputs": [],
   "source": [
    "for t in range(int(Tf/dt)):\n",
    "    # Computing RHS using a first order schema\n",
    "    RHS[1:-1,1:-1] = dt*k*(T2[:-2,1:-1] - 2*T2[1:-1,1:-1] + T2[2:,1:-1] + T2[1:-1,:-2] - 2*T2[1:-1,1:-1] + T2[1:-1,2:])/(dx**2)\n",
    "    \n",
    "    # Update T : T <- T + Tdot*dt\n",
    "    T2 = T2 + RHS\n",
    "    if t % 500 == 0:\n",
    "        SOL2.append(T2)"
   ]
  },
  {
   "cell_type": "markdown",
   "metadata": {},
   "source": [
    "## Visualization"
   ]
  },
  {
   "cell_type": "code",
   "execution_count": null,
   "metadata": {},
   "outputs": [],
   "source": [
    "plt.figure(figsize=(10, 10))\n",
    "plt.title('2D Heat Equation solution for second example at time t = {}'.format(Tf))\n",
    "plt.xlabel('x-axis')\n",
    "plt.ylabel('y-axis')\n",
    "plt.pcolor(xx, yy, T2)\n",
    "plt.show()"
   ]
  },
  {
   "cell_type": "markdown",
   "metadata": {
    "collapsed": true
   },
   "source": [
    "## Diffrent boundary conditions thermal source"
   ]
  },
  {
   "cell_type": "code",
   "execution_count": null,
   "metadata": {
    "collapsed": true
   },
   "outputs": [],
   "source": [
    "T3   = np.zeros((nx + 1, ny + 1))    # Initial temperature equal to zero inside the domain\n",
    "RHS  = np.zeros((nx + 1, ny + 1))    # Initial temperature constant so RHS vanishes\n",
    "\n",
    "T3[20:30,20:30]     = 200  # Thermal source \n",
    "T3[150:160,150:160] = 200  # Thermal source\n",
    "\n",
    "SOL3 = []  # Stores the evolution of T2\n",
    "SOL3.append(T3)"
   ]
  },
  {
   "cell_type": "markdown",
   "metadata": {},
   "source": [
    "## Main Loop Example 3 :"
   ]
  },
  {
   "cell_type": "code",
   "execution_count": null,
   "metadata": {
    "collapsed": true
   },
   "outputs": [],
   "source": [
    "for t in range(int(Tf/dt)):\n",
    "    # Computing RHS using a first order schema\n",
    "    RHS[1:-1,1:-1] = dt*k*(T3[:-2,1:-1] - 2*T3[1:-1,1:-1] + T3[2:,1:-1] + T3[1:-1,:-2] - 2*T3[1:-1,1:-1] + T3[1:-1,2:])/(dx**2)\n",
    "        \n",
    "    # Update T : T <- T + Tdot*dt\n",
    "    T3 = T3 + RHS\n",
    "    T3[20:30,20:30]     = 200  # Thermal source \n",
    "    T3[150:160,150:160] = 200  # Thermal source\n",
    "\n",
    "    \n",
    "    if t % 500 == 0:\n",
    "        SOL3.append(T3)"
   ]
  },
  {
   "cell_type": "markdown",
   "metadata": {},
   "source": [
    "## Visualization"
   ]
  },
  {
   "cell_type": "code",
   "execution_count": null,
   "metadata": {},
   "outputs": [],
   "source": [
    "plt.figure(figsize=(10, 10))\n",
    "plt.title('2D Heat Equation solution for third example at time t = {}'.format(Tf))\n",
    "plt.xlabel('x-axis')\n",
    "plt.ylabel('y-axis')\n",
    "plt.pcolor(xx, yy, T3)\n",
    "plt.show()"
   ]
  },
  {
   "cell_type": "code",
   "execution_count": null,
   "metadata": {
    "collapsed": true
   },
   "outputs": [],
   "source": []
  }
 ],
 "metadata": {
  "kernelspec": {
   "display_name": "Python 3",
   "language": "python",
   "name": "python3"
  },
  "language_info": {
   "codemirror_mode": {
    "name": "ipython",
    "version": 3
   },
   "file_extension": ".py",
   "mimetype": "text/x-python",
   "name": "python",
   "nbconvert_exporter": "python",
   "pygments_lexer": "ipython3",
   "version": "3.6.3"
  }
 },
 "nbformat": 4,
 "nbformat_minor": 2
}
