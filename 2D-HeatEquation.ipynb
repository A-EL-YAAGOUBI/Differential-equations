{
 "cells": [
  {
   "cell_type": "markdown",
   "metadata": {},
   "source": [
    "## Importing useful packages"
   ]
  },
  {
   "cell_type": "code",
   "execution_count": 4,
   "metadata": {
    "collapsed": true
   },
   "outputs": [],
   "source": [
    "import matplotlib.pyplot as plt\n",
    "import numpy as np\n",
    "\n",
    "%matplotlib inline\n",
    "%matplotlib notebook"
   ]
  },
  {
   "cell_type": "markdown",
   "metadata": {},
   "source": [
    "## Initializing constants"
   ]
  },
  {
   "cell_type": "code",
   "execution_count": 9,
   "metadata": {
    "collapsed": true
   },
   "outputs": [],
   "source": [
    "k = 0.4    # Thermal conductivity coefficient\n",
    "Lx = 10    # Width\n",
    "Ly = 10    # Length\n",
    "\n",
    "n = 250    # Spatial precision \n",
    "nx = n     # X axis precision\n",
    "ny = n     # Y axis precision \n",
    "\n",
    "dx = Lx/nx # X axis step size\n",
    "dy = Ly/ny # Y axis step size\n",
    "\n",
    "xx = np.linspace(-Lx/2, Lx/2, nx + 1) # X Axis\n",
    "yy = np.linspace(-Ly/2, Ly/2, ny + 1) # Y Axis\n",
    "\n",
    "Tf = 5     # Integration time\n",
    "dt = 0.001 # Time step\n",
    "\n",
    "SOL = []   # Stores the evolution on T\n",
    "SOL.append(T)"
   ]
  },
  {
   "cell_type": "markdown",
   "metadata": {},
   "source": [
    "## Setting boundary contitions"
   ]
  },
  {
   "cell_type": "code",
   "execution_count": 10,
   "metadata": {},
   "outputs": [],
   "source": [
    "T   = np.zeros((nx + 1, ny + 1))    # Initial temperature equal to zero inside the domain\n",
    "RHS = np.zeros((nx + 1, ny + 1))    # Initial temperature constant so RHS vanishes\n",
    "\n",
    "T[:,0] = 100  # Left boundary condition \n",
    "T[:,n] = 200  # Right boundary condition"
   ]
  },
  {
   "cell_type": "markdown",
   "metadata": {},
   "source": [
    "## Main Loop "
   ]
  },
  {
   "cell_type": "code",
   "execution_count": null,
   "metadata": {
    "collapsed": true
   },
   "outputs": [],
   "source": []
  },
  {
   "cell_type": "code",
   "execution_count": null,
   "metadata": {
    "collapsed": true
   },
   "outputs": [],
   "source": []
  }
 ],
 "metadata": {
  "kernelspec": {
   "display_name": "Python 3",
   "language": "python",
   "name": "python3"
  },
  "language_info": {
   "codemirror_mode": {
    "name": "ipython",
    "version": 3
   },
   "file_extension": ".py",
   "mimetype": "text/x-python",
   "name": "python",
   "nbconvert_exporter": "python",
   "pygments_lexer": "ipython3",
   "version": "3.6.3"
  }
 },
 "nbformat": 4,
 "nbformat_minor": 2
}
