{
 "cells": [
  {
   "cell_type": "markdown",
   "metadata": {},
   "source": [
    "## This tutorial aims to understand the following simple looking equation : \n",
    "$( E )\n",
    "\\begin{cases}\n",
    "    \\dot y = cos(\\pi xy).\\\\\n",
    "    y : x \\to y(x)\n",
    "\\end{cases}\n",
    "$\n",
    "\n",
    "Although equation $(E)$ looks simple it is a very difficult one. The reason why this equation is difficult is because of the non-linearity caused by the Cosine function, there is no simple way to write down the solution to this equation. First we are going to visualize the solution numericaly and then we are going to attemp to understand we have visualized using hyper asymptotics a.k.a. asymptotics beyond all orders ... \n",
    "- I  - Numerical solution\n",
    "- II - Hper Asymptotics "
   ]
  },
  {
   "cell_type": "code",
   "execution_count": 1,
   "metadata": {},
   "outputs": [],
   "source": [
    "import sys\n",
    "import numpy as np\n",
    "import matplotlib.pyplot as plt\n",
    "from matplotlib.patches import Circle"
   ]
  },
  {
   "cell_type": "markdown",
   "metadata": {},
   "source": [
    "- I  - Numerical solution"
   ]
  }
 ],
 "metadata": {
  "kernelspec": {
   "display_name": "Python 3",
   "language": "python",
   "name": "python3"
  },
  "language_info": {
   "codemirror_mode": {
    "name": "ipython",
    "version": 3
   },
   "file_extension": ".py",
   "mimetype": "text/x-python",
   "name": "python",
   "nbconvert_exporter": "python",
   "pygments_lexer": "ipython3",
   "version": "3.6.3"
  }
 },
 "nbformat": 4,
 "nbformat_minor": 2
}
